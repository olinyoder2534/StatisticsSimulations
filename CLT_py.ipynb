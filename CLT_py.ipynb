{
  "nbformat": 4,
  "nbformat_minor": 0,
  "metadata": {
    "colab": {
      "provenance": [],
      "authorship_tag": "ABX9TyMHH9Vof77tBkIaOTuPtvO5",
      "include_colab_link": true
    },
    "kernelspec": {
      "name": "python3",
      "display_name": "Python 3"
    },
    "language_info": {
      "name": "python"
    }
  },
  "cells": [
    {
      "cell_type": "markdown",
      "metadata": {
        "id": "view-in-github",
        "colab_type": "text"
      },
      "source": [
        "<a href=\"https://colab.research.google.com/github/olinyoder2534/StatisticsSimulations/blob/main/CLT_py.ipynb\" target=\"_parent\"><img src=\"https://colab.research.google.com/assets/colab-badge.svg\" alt=\"Open In Colab\"/></a>"
      ]
    },
    {
      "cell_type": "code",
      "execution_count": null,
      "metadata": {
        "id": "a_S6d_JDwDkb"
      },
      "outputs": [],
      "source": [
        "import requests\n",
        "import pandas as pd\n",
        "import numpy as np\n",
        "import matplotlib.pyplot as plt\n",
        "import statistics"
      ]
    },
    {
      "cell_type": "markdown",
      "source": [
        "Connect to API"
      ],
      "metadata": {
        "id": "e2xyN7YmKEVP"
      }
    },
    {
      "cell_type": "code",
      "source": [
        "response = requests.get('https://randomuser.me/api')"
      ],
      "metadata": {
        "id": "EnSYm5A-wM1t"
      },
      "execution_count": null,
      "outputs": []
    },
    {
      "cell_type": "markdown",
      "source": [
        "Single Person Reponse"
      ],
      "metadata": {
        "id": "F_lvf-u2KKOk"
      }
    },
    {
      "cell_type": "code",
      "source": [
        "print(response.status_code)\n",
        "print(response.json())"
      ],
      "metadata": {
        "colab": {
          "base_uri": "https://localhost:8080/"
        },
        "id": "kEXvTAN1wV7l",
        "outputId": "dce1fe14-6113-42ed-ed3f-f13f4ec9b96d"
      },
      "execution_count": null,
      "outputs": [
        {
          "output_type": "stream",
          "name": "stdout",
          "text": [
            "200\n",
            "{'results': [{'gender': 'female', 'name': {'title': 'Miss', 'first': 'Elisa', 'last': 'Núñez'}, 'location': {'street': {'number': 665, 'name': 'Calle de Alberto Aguilera'}, 'city': 'Arrecife', 'state': 'Castilla y León', 'country': 'Spain', 'postcode': 69968, 'coordinates': {'latitude': '-37.7200', 'longitude': '141.1159'}, 'timezone': {'offset': '+6:00', 'description': 'Almaty, Dhaka, Colombo'}}, 'email': 'elisa.nunez@example.com', 'login': {'uuid': '4a3c1415-a83e-4098-983a-ae20886816a0', 'username': 'redmouse942', 'password': 'camille', 'salt': 'Ho6cJILG', 'md5': '00e5c26b5817f901c57dc0f0f7f07451', 'sha1': '33d631c885e9c62a215a8fe123cdff81820fec04', 'sha256': '1103be9bb6469fd33d1f9ab533fb15fea1d5d246cbe884f5c0f08e646261afbe'}, 'dob': {'date': '1953-08-21T06:15:13.962Z', 'age': 70}, 'registered': {'date': '2003-06-16T16:49:28.890Z', 'age': 20}, 'phone': '954-504-608', 'cell': '673-352-173', 'id': {'name': 'DNI', 'value': '98942213-T'}, 'picture': {'large': 'https://randomuser.me/api/portraits/women/53.jpg', 'medium': 'https://randomuser.me/api/portraits/med/women/53.jpg', 'thumbnail': 'https://randomuser.me/api/portraits/thumb/women/53.jpg'}, 'nat': 'ES'}], 'info': {'seed': '4658e6c07dc1f293', 'results': 1, 'page': 1, 'version': '1.4'}}\n"
          ]
        }
      ]
    },
    {
      "cell_type": "code",
      "source": [
        "#person information\n",
        "gender = response.json()['results'][0]['gender']\n",
        "gender\n",
        "\n",
        "first_name = response.json()['results'][0]['name']['first']\n",
        "first_name\n",
        "\n",
        "last_name = response.json()['results'][0]['name']['last']\n",
        "last_name\n",
        "\n",
        "full_name = print('{} {}'.format(first_name, last_name))"
      ],
      "metadata": {
        "colab": {
          "base_uri": "https://localhost:8080/"
        },
        "id": "3etrXoPEws5l",
        "outputId": "b8378e91-c7eb-41f6-8e46-ef596f9d1f4b"
      },
      "execution_count": null,
      "outputs": [
        {
          "output_type": "stream",
          "name": "stdout",
          "text": [
            "Elisa Núñez\n"
          ]
        }
      ]
    },
    {
      "cell_type": "markdown",
      "source": [
        "Responses for 50 People"
      ],
      "metadata": {
        "id": "lNaCgrKVKN1j"
      }
    },
    {
      "cell_type": "code",
      "source": [
        "#50 people\n",
        "data = []\n",
        "\n",
        "for i in range(100):\n",
        "    responses = requests.get('https://randomuser.me/api')\n",
        "\n",
        "    if responses.status_code == 200:\n",
        "        individual = responses.json()['results'][0]\n",
        "        data.append({\n",
        "            'name': f\"{individual['name']['first']} {individual['name']['last']}\",\n",
        "            'gender': individual['gender'],\n",
        "            'age': f\"{individual['dob']['age']}\",\n",
        "            'email': individual['email'],\n",
        "            'phone': individual['phone'],\n",
        "            'location': f\"{individual['location']['city']}, {individual['location']['country']}\"\n",
        "        })\n",
        "    else:\n",
        "        print(\"Request failed with status code {}\".format(responses.status_code))"
      ],
      "metadata": {
        "id": "SCtWefG_6BiS"
      },
      "execution_count": null,
      "outputs": []
    },
    {
      "cell_type": "code",
      "source": [
        "#Basic exploration/cleaning\n",
        "type(data)"
      ],
      "metadata": {
        "colab": {
          "base_uri": "https://localhost:8080/"
        },
        "id": "s1pkwO8G3cNP",
        "outputId": "e39d41bf-7a5e-4a90-e860-1e82f931b2e6"
      },
      "execution_count": null,
      "outputs": [
        {
          "output_type": "execute_result",
          "data": {
            "text/plain": [
              "list"
            ]
          },
          "metadata": {},
          "execution_count": 73
        }
      ]
    },
    {
      "cell_type": "code",
      "source": [
        "data = pd.DataFrame(data)\n",
        "data.head(3)"
      ],
      "metadata": {
        "colab": {
          "base_uri": "https://localhost:8080/",
          "height": 143
        },
        "id": "PfY3rpuu41ix",
        "outputId": "141a9d3b-0419-4901-93bd-69b72beeccef"
      },
      "execution_count": null,
      "outputs": [
        {
          "output_type": "execute_result",
          "data": {
            "text/plain": [
              "                 name  gender age                           email  \\\n",
              "0  Francisco Carrasco    male  24  francisco.carrasco@example.com   \n",
              "1       Christer Bøhn    male  79       christer.bohn@example.com   \n",
              "2       Maureen Lopez  female  71       maureen.lopez@example.com   \n",
              "\n",
              "          phone              location  \n",
              "0   938-278-857     Valladolid, Spain  \n",
              "1      54893224            Bø, Norway  \n",
              "2  02-8517-6338  Geraldton, Australia  "
            ],
            "text/html": [
              "\n",
              "  <div id=\"df-9d275fdd-6577-4d9a-aa2d-37ffc01bfe14\" class=\"colab-df-container\">\n",
              "    <div>\n",
              "<style scoped>\n",
              "    .dataframe tbody tr th:only-of-type {\n",
              "        vertical-align: middle;\n",
              "    }\n",
              "\n",
              "    .dataframe tbody tr th {\n",
              "        vertical-align: top;\n",
              "    }\n",
              "\n",
              "    .dataframe thead th {\n",
              "        text-align: right;\n",
              "    }\n",
              "</style>\n",
              "<table border=\"1\" class=\"dataframe\">\n",
              "  <thead>\n",
              "    <tr style=\"text-align: right;\">\n",
              "      <th></th>\n",
              "      <th>name</th>\n",
              "      <th>gender</th>\n",
              "      <th>age</th>\n",
              "      <th>email</th>\n",
              "      <th>phone</th>\n",
              "      <th>location</th>\n",
              "    </tr>\n",
              "  </thead>\n",
              "  <tbody>\n",
              "    <tr>\n",
              "      <th>0</th>\n",
              "      <td>Francisco Carrasco</td>\n",
              "      <td>male</td>\n",
              "      <td>24</td>\n",
              "      <td>francisco.carrasco@example.com</td>\n",
              "      <td>938-278-857</td>\n",
              "      <td>Valladolid, Spain</td>\n",
              "    </tr>\n",
              "    <tr>\n",
              "      <th>1</th>\n",
              "      <td>Christer Bøhn</td>\n",
              "      <td>male</td>\n",
              "      <td>79</td>\n",
              "      <td>christer.bohn@example.com</td>\n",
              "      <td>54893224</td>\n",
              "      <td>Bø, Norway</td>\n",
              "    </tr>\n",
              "    <tr>\n",
              "      <th>2</th>\n",
              "      <td>Maureen Lopez</td>\n",
              "      <td>female</td>\n",
              "      <td>71</td>\n",
              "      <td>maureen.lopez@example.com</td>\n",
              "      <td>02-8517-6338</td>\n",
              "      <td>Geraldton, Australia</td>\n",
              "    </tr>\n",
              "  </tbody>\n",
              "</table>\n",
              "</div>\n",
              "    <div class=\"colab-df-buttons\">\n",
              "\n",
              "  <div class=\"colab-df-container\">\n",
              "    <button class=\"colab-df-convert\" onclick=\"convertToInteractive('df-9d275fdd-6577-4d9a-aa2d-37ffc01bfe14')\"\n",
              "            title=\"Convert this dataframe to an interactive table.\"\n",
              "            style=\"display:none;\">\n",
              "\n",
              "  <svg xmlns=\"http://www.w3.org/2000/svg\" height=\"24px\" viewBox=\"0 -960 960 960\">\n",
              "    <path d=\"M120-120v-720h720v720H120Zm60-500h600v-160H180v160Zm220 220h160v-160H400v160Zm0 220h160v-160H400v160ZM180-400h160v-160H180v160Zm440 0h160v-160H620v160ZM180-180h160v-160H180v160Zm440 0h160v-160H620v160Z\"/>\n",
              "  </svg>\n",
              "    </button>\n",
              "\n",
              "  <style>\n",
              "    .colab-df-container {\n",
              "      display:flex;\n",
              "      gap: 12px;\n",
              "    }\n",
              "\n",
              "    .colab-df-convert {\n",
              "      background-color: #E8F0FE;\n",
              "      border: none;\n",
              "      border-radius: 50%;\n",
              "      cursor: pointer;\n",
              "      display: none;\n",
              "      fill: #1967D2;\n",
              "      height: 32px;\n",
              "      padding: 0 0 0 0;\n",
              "      width: 32px;\n",
              "    }\n",
              "\n",
              "    .colab-df-convert:hover {\n",
              "      background-color: #E2EBFA;\n",
              "      box-shadow: 0px 1px 2px rgba(60, 64, 67, 0.3), 0px 1px 3px 1px rgba(60, 64, 67, 0.15);\n",
              "      fill: #174EA6;\n",
              "    }\n",
              "\n",
              "    .colab-df-buttons div {\n",
              "      margin-bottom: 4px;\n",
              "    }\n",
              "\n",
              "    [theme=dark] .colab-df-convert {\n",
              "      background-color: #3B4455;\n",
              "      fill: #D2E3FC;\n",
              "    }\n",
              "\n",
              "    [theme=dark] .colab-df-convert:hover {\n",
              "      background-color: #434B5C;\n",
              "      box-shadow: 0px 1px 3px 1px rgba(0, 0, 0, 0.15);\n",
              "      filter: drop-shadow(0px 1px 2px rgba(0, 0, 0, 0.3));\n",
              "      fill: #FFFFFF;\n",
              "    }\n",
              "  </style>\n",
              "\n",
              "    <script>\n",
              "      const buttonEl =\n",
              "        document.querySelector('#df-9d275fdd-6577-4d9a-aa2d-37ffc01bfe14 button.colab-df-convert');\n",
              "      buttonEl.style.display =\n",
              "        google.colab.kernel.accessAllowed ? 'block' : 'none';\n",
              "\n",
              "      async function convertToInteractive(key) {\n",
              "        const element = document.querySelector('#df-9d275fdd-6577-4d9a-aa2d-37ffc01bfe14');\n",
              "        const dataTable =\n",
              "          await google.colab.kernel.invokeFunction('convertToInteractive',\n",
              "                                                    [key], {});\n",
              "        if (!dataTable) return;\n",
              "\n",
              "        const docLinkHtml = 'Like what you see? Visit the ' +\n",
              "          '<a target=\"_blank\" href=https://colab.research.google.com/notebooks/data_table.ipynb>data table notebook</a>'\n",
              "          + ' to learn more about interactive tables.';\n",
              "        element.innerHTML = '';\n",
              "        dataTable['output_type'] = 'display_data';\n",
              "        await google.colab.output.renderOutput(dataTable, element);\n",
              "        const docLink = document.createElement('div');\n",
              "        docLink.innerHTML = docLinkHtml;\n",
              "        element.appendChild(docLink);\n",
              "      }\n",
              "    </script>\n",
              "  </div>\n",
              "\n",
              "\n",
              "<div id=\"df-cb4b480d-ce64-4685-a238-4a17639ffdce\">\n",
              "  <button class=\"colab-df-quickchart\" onclick=\"quickchart('df-cb4b480d-ce64-4685-a238-4a17639ffdce')\"\n",
              "            title=\"Suggest charts\"\n",
              "            style=\"display:none;\">\n",
              "\n",
              "<svg xmlns=\"http://www.w3.org/2000/svg\" height=\"24px\"viewBox=\"0 0 24 24\"\n",
              "     width=\"24px\">\n",
              "    <g>\n",
              "        <path d=\"M19 3H5c-1.1 0-2 .9-2 2v14c0 1.1.9 2 2 2h14c1.1 0 2-.9 2-2V5c0-1.1-.9-2-2-2zM9 17H7v-7h2v7zm4 0h-2V7h2v10zm4 0h-2v-4h2v4z\"/>\n",
              "    </g>\n",
              "</svg>\n",
              "  </button>\n",
              "\n",
              "<style>\n",
              "  .colab-df-quickchart {\n",
              "      --bg-color: #E8F0FE;\n",
              "      --fill-color: #1967D2;\n",
              "      --hover-bg-color: #E2EBFA;\n",
              "      --hover-fill-color: #174EA6;\n",
              "      --disabled-fill-color: #AAA;\n",
              "      --disabled-bg-color: #DDD;\n",
              "  }\n",
              "\n",
              "  [theme=dark] .colab-df-quickchart {\n",
              "      --bg-color: #3B4455;\n",
              "      --fill-color: #D2E3FC;\n",
              "      --hover-bg-color: #434B5C;\n",
              "      --hover-fill-color: #FFFFFF;\n",
              "      --disabled-bg-color: #3B4455;\n",
              "      --disabled-fill-color: #666;\n",
              "  }\n",
              "\n",
              "  .colab-df-quickchart {\n",
              "    background-color: var(--bg-color);\n",
              "    border: none;\n",
              "    border-radius: 50%;\n",
              "    cursor: pointer;\n",
              "    display: none;\n",
              "    fill: var(--fill-color);\n",
              "    height: 32px;\n",
              "    padding: 0;\n",
              "    width: 32px;\n",
              "  }\n",
              "\n",
              "  .colab-df-quickchart:hover {\n",
              "    background-color: var(--hover-bg-color);\n",
              "    box-shadow: 0 1px 2px rgba(60, 64, 67, 0.3), 0 1px 3px 1px rgba(60, 64, 67, 0.15);\n",
              "    fill: var(--button-hover-fill-color);\n",
              "  }\n",
              "\n",
              "  .colab-df-quickchart-complete:disabled,\n",
              "  .colab-df-quickchart-complete:disabled:hover {\n",
              "    background-color: var(--disabled-bg-color);\n",
              "    fill: var(--disabled-fill-color);\n",
              "    box-shadow: none;\n",
              "  }\n",
              "\n",
              "  .colab-df-spinner {\n",
              "    border: 2px solid var(--fill-color);\n",
              "    border-color: transparent;\n",
              "    border-bottom-color: var(--fill-color);\n",
              "    animation:\n",
              "      spin 1s steps(1) infinite;\n",
              "  }\n",
              "\n",
              "  @keyframes spin {\n",
              "    0% {\n",
              "      border-color: transparent;\n",
              "      border-bottom-color: var(--fill-color);\n",
              "      border-left-color: var(--fill-color);\n",
              "    }\n",
              "    20% {\n",
              "      border-color: transparent;\n",
              "      border-left-color: var(--fill-color);\n",
              "      border-top-color: var(--fill-color);\n",
              "    }\n",
              "    30% {\n",
              "      border-color: transparent;\n",
              "      border-left-color: var(--fill-color);\n",
              "      border-top-color: var(--fill-color);\n",
              "      border-right-color: var(--fill-color);\n",
              "    }\n",
              "    40% {\n",
              "      border-color: transparent;\n",
              "      border-right-color: var(--fill-color);\n",
              "      border-top-color: var(--fill-color);\n",
              "    }\n",
              "    60% {\n",
              "      border-color: transparent;\n",
              "      border-right-color: var(--fill-color);\n",
              "    }\n",
              "    80% {\n",
              "      border-color: transparent;\n",
              "      border-right-color: var(--fill-color);\n",
              "      border-bottom-color: var(--fill-color);\n",
              "    }\n",
              "    90% {\n",
              "      border-color: transparent;\n",
              "      border-bottom-color: var(--fill-color);\n",
              "    }\n",
              "  }\n",
              "</style>\n",
              "\n",
              "  <script>\n",
              "    async function quickchart(key) {\n",
              "      const quickchartButtonEl =\n",
              "        document.querySelector('#' + key + ' button');\n",
              "      quickchartButtonEl.disabled = true;  // To prevent multiple clicks.\n",
              "      quickchartButtonEl.classList.add('colab-df-spinner');\n",
              "      try {\n",
              "        const charts = await google.colab.kernel.invokeFunction(\n",
              "            'suggestCharts', [key], {});\n",
              "      } catch (error) {\n",
              "        console.error('Error during call to suggestCharts:', error);\n",
              "      }\n",
              "      quickchartButtonEl.classList.remove('colab-df-spinner');\n",
              "      quickchartButtonEl.classList.add('colab-df-quickchart-complete');\n",
              "    }\n",
              "    (() => {\n",
              "      let quickchartButtonEl =\n",
              "        document.querySelector('#df-cb4b480d-ce64-4685-a238-4a17639ffdce button');\n",
              "      quickchartButtonEl.style.display =\n",
              "        google.colab.kernel.accessAllowed ? 'block' : 'none';\n",
              "    })();\n",
              "  </script>\n",
              "</div>\n",
              "\n",
              "    </div>\n",
              "  </div>\n"
            ]
          },
          "metadata": {},
          "execution_count": 8
        }
      ]
    },
    {
      "cell_type": "code",
      "source": [
        "data.dtypes"
      ],
      "metadata": {
        "colab": {
          "base_uri": "https://localhost:8080/"
        },
        "id": "g3vedvxW9TpC",
        "outputId": "91e033ef-23fe-4f8b-a5a6-b81309392df7"
      },
      "execution_count": null,
      "outputs": [
        {
          "output_type": "execute_result",
          "data": {
            "text/plain": [
              "name        object\n",
              "gender      object\n",
              "age         object\n",
              "email       object\n",
              "phone       object\n",
              "location    object\n",
              "dtype: object"
            ]
          },
          "metadata": {},
          "execution_count": 9
        }
      ]
    },
    {
      "cell_type": "code",
      "source": [
        "np.unique(data['gender'])"
      ],
      "metadata": {
        "colab": {
          "base_uri": "https://localhost:8080/"
        },
        "id": "Egnppsfr-GJn",
        "outputId": "6b1effab-faae-4d11-f92e-78cc8d37f4ff"
      },
      "execution_count": null,
      "outputs": [
        {
          "output_type": "execute_result",
          "data": {
            "text/plain": [
              "array(['female', 'male'], dtype=object)"
            ]
          },
          "metadata": {},
          "execution_count": 10
        }
      ]
    },
    {
      "cell_type": "code",
      "source": [
        "data['name'] = data['name'].astype(str)\n",
        "data['gender'] = data['gender'].astype('category')\n",
        "data['age'] = data['age'].astype(int)"
      ],
      "metadata": {
        "id": "wGROlReK9afj"
      },
      "execution_count": null,
      "outputs": []
    },
    {
      "cell_type": "code",
      "source": [
        "plt.hist(data['age'], bins=10, edgecolor='black')\n",
        "\n",
        "plt.xticks(range(min(data['age']), max(data['age']) + 1, 5))\n",
        "\n",
        "plt.xlabel('Age')\n",
        "plt.ylabel('Frequency')\n",
        "plt.title('Histogram of Age with 10 Bins')\n",
        "\n",
        "plt.show()"
      ],
      "metadata": {
        "colab": {
          "base_uri": "https://localhost:8080/",
          "height": 472
        },
        "id": "yX-aU45T8WRi",
        "outputId": "f295d686-f5dc-4400-a785-ee5a3f6c5524"
      },
      "execution_count": null,
      "outputs": [
        {
          "output_type": "display_data",
          "data": {
            "text/plain": [
              "<Figure size 640x480 with 1 Axes>"
            ],
            "image/png": "[encoded data removed]"
          },
          "metadata": {}
        }
      ]
    },
    {
      "cell_type": "code",
      "source": [
        "data['gender'].value_counts()"
      ],
      "metadata": {
        "colab": {
          "base_uri": "https://localhost:8080/"
        },
        "id": "er1hGHUU_j72",
        "outputId": "3d536dce-f5cc-4ecb-b3f6-a1ad3df2f0bd"
      },
      "execution_count": null,
      "outputs": [
        {
          "output_type": "execute_result",
          "data": {
            "text/plain": [
              "female    51\n",
              "male      49\n",
              "Name: gender, dtype: int64"
            ]
          },
          "metadata": {},
          "execution_count": 12
        }
      ]
    },
    {
      "cell_type": "code",
      "source": [
        "statistics.mean(data['age'])"
      ],
      "metadata": {
        "colab": {
          "base_uri": "https://localhost:8080/"
        },
        "id": "c6stanwbEv7G",
        "outputId": "3f790a32-b4bc-4969-e6ac-ca9aa7cfd82c"
      },
      "execution_count": null,
      "outputs": [
        {
          "output_type": "execute_result",
          "data": {
            "text/plain": [
              "52.03"
            ]
          },
          "metadata": {},
          "execution_count": 13
        }
      ]
    },
    {
      "cell_type": "code",
      "source": [
        "count = 0\n",
        "\n",
        "for gender in data['gender']:\n",
        "    if gender == 'male':\n",
        "        count += 1\n",
        "\n",
        "count"
      ],
      "metadata": {
        "colab": {
          "base_uri": "https://localhost:8080/"
        },
        "id": "ZE38_EaoFtY7",
        "outputId": "aa74f007-131d-4750-ce4a-6baa550ca160"
      },
      "execution_count": null,
      "outputs": [
        {
          "output_type": "execute_result",
          "data": {
            "text/plain": [
              "49"
            ]
          },
          "metadata": {},
          "execution_count": 17
        }
      ]
    },
    {
      "cell_type": "markdown",
      "source": [
        "Central Limit Theorem Example"
      ],
      "metadata": {
        "id": "iApm7RyqKTaK"
      }
    },
    {
      "cell_type": "code",
      "source": [
        "ages = []\n",
        "countMales = []\n",
        "\n",
        "for i in range(100):\n",
        "    data2 = []\n",
        "\n",
        "    for j in range(10):\n",
        "        responses2 = requests.get('https://randomuser.me/api')\n",
        "\n",
        "        if responses2.status_code == 200:\n",
        "            individual2 = responses2.json()['results'][0]\n",
        "            data2.append({\n",
        "                'name': f\"{individual2['name']['first']} {individual2['name']['last']}\",\n",
        "                'gender': individual2['gender'],\n",
        "                'age': int(individual2['dob']['age']),\n",
        "            })\n",
        "        else:\n",
        "            print(\"Request failed with status code {}\".format(responses2.status_code))\n",
        "\n",
        "    data2 = pd.DataFrame(data2)\n",
        "    data2['gender'] = data2['gender'].astype('category')\n",
        "\n",
        "    # Calculate mean age and count of males\n",
        "    meanAge = data2['age'].mean()\n",
        "    countMale = (data2['gender'] == 'male').sum()\n",
        "\n",
        "    # Append results to lists\n",
        "    ages.append(meanAge)\n",
        "    countMales.append(countMale)"
      ],
      "metadata": {
        "id": "bQkxEdPUHxwE"
      },
      "execution_count": null,
      "outputs": []
    },
    {
      "cell_type": "code",
      "source": [
        "plt.hist(countMales, bins=6, edgecolor='black')\n",
        "\n",
        "plt.xlabel('Count of Males')\n",
        "plt.ylabel('Frequency')\n",
        "plt.title('Histogram of Count of Males')\n",
        "\n",
        "plt.show()"
      ],
      "metadata": {
        "colab": {
          "base_uri": "https://localhost:8080/",
          "height": 472
        },
        "id": "uTlNO1VUJ1yu",
        "outputId": "ab7909ec-d068-4442-8b01-18b1e6803c84"
      },
      "execution_count": null,
      "outputs": [
        {
          "output_type": "display_data",
          "data": {
            "text/plain": [
              "<Figure size 640x480 with 1 Axes>"
            ],
            "image/png": "[encoded data removed]"
          },
          "metadata": {}
        }
      ]
    },
    {
      "cell_type": "code",
      "source": [
        "plt.hist(ages, bins=10, edgecolor='black')\n",
        "\n",
        "plt.xlabel('Average Ages')\n",
        "plt.ylabel('Frequency')\n",
        "plt.title('Histogram of Average Ages')\n",
        "\n",
        "plt.show()"
      ],
      "metadata": {
        "colab": {
          "base_uri": "https://localhost:8080/",
          "height": 472
        },
        "id": "DNkiWEW_JkD1",
        "outputId": "339c1e71-7ac1-4663-8b76-8798d950325e"
      },
      "execution_count": null,
      "outputs": [
        {
          "output_type": "display_data",
          "data": {
            "text/plain": [
              "<Figure size 640x480 with 1 Axes>"
            ],
            "image/png": "[encoded data removed]"
          },
          "metadata": {}
        }
      ]
    }
  ]
}