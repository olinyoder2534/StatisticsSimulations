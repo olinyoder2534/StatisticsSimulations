{
  "nbformat": 4,
  "nbformat_minor": 0,
  "metadata": {
    "colab": {
      "provenance": [],
      "authorship_tag": "ABX9TyMa3BfQ1zM2+1KyHHAYoGpN",
      "include_colab_link": true
    },
    "kernelspec": {
      "name": "python3",
      "display_name": "Python 3"
    },
    "language_info": {
      "name": "python"
    }
  },
  "cells": [
    {
      "cell_type": "markdown",
      "metadata": {
        "id": "view-in-github",
        "colab_type": "text"
      },
      "source": [
        "<a href=\"https://colab.research.google.com/github/olinyoder2534/StatisticsSimulations/blob/main/MonteCarlo.ipynb\" target=\"_parent\"><img src=\"https://colab.research.google.com/assets/colab-badge.svg\" alt=\"Open In Colab\"/></a>"
      ]
    },
    {
      "cell_type": "code",
      "execution_count": null,
      "metadata": {
        "id": "1Tvoo3GYfCjM"
      },
      "outputs": [],
      "source": [
        "import random\n",
        "import math"
      ]
    },
    {
      "cell_type": "code",
      "source": [
        "#estimate Pi\n",
        "def monte_carlo_pi_simulation(points):\n",
        "    points_inside_circle = 0\n",
        "\n",
        "    for _ in range(points):\n",
        "        x = random.uniform(0, 1)\n",
        "        y = random.uniform(0, 1)\n",
        "        distance = x**2 + y**2\n",
        "\n",
        "        if distance <= 1:\n",
        "            points_inside_circle += 1\n",
        "\n",
        "    estimate = 4 * (points_inside_circle / points)\n",
        "    return estimate"
      ],
      "metadata": {
        "id": "xKbkcfSxfFTj"
      },
      "execution_count": null,
      "outputs": []
    },
    {
      "cell_type": "code",
      "source": [
        "points = 100000\n",
        "piEstimate = monte_carlo_pi_simulation(points)\n",
        "print('Estimated value of π using {} points: {}'.format(points, piEstimate))"
      ],
      "metadata": {
        "colab": {
          "base_uri": "https://localhost:8080/"
        },
        "id": "1WpAS_GefHtm",
        "outputId": "12b93dd5-c24d-43ed-aa70-12895b330357"
      },
      "execution_count": null,
      "outputs": [
        {
          "output_type": "stream",
          "name": "stdout",
          "text": [
            "Estimated value of π using 100000 points: 3.14796\n"
          ]
        }
      ]
    },
    {
      "cell_type": "code",
      "source": [
        "residual = piEstimate - math.pi\n",
        "\n",
        "if residual >= 0:\n",
        "  print('The estimate is {} greater than true pi'.format(abs(residual)))\n",
        "\n",
        "if residual < 0:\n",
        "  print('The estimate is {} less than true pi'.format(abs(residual)))"
      ],
      "metadata": {
        "colab": {
          "base_uri": "https://localhost:8080/"
        },
        "id": "g2nY6JlJgM4V",
        "outputId": "c767e838-9983-4267-e108-1d2121b59082"
      },
      "execution_count": null,
      "outputs": [
        {
          "output_type": "stream",
          "name": "stdout",
          "text": [
            "The estimate is 0.006367346410206753 greater than true pi\n"
          ]
        }
      ]
    }
  ]
}